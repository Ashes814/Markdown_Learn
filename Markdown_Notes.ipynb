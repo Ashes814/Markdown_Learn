{
 "cells": [
  {
   "cell_type": "markdown",
   "id": "0d7701b0-c72c-441a-803f-224a91fc62df",
   "metadata": {},
   "source": [
    "# 前言\n",
    "本教程基于网络资源与实例项目，展示日常使用中常见的Markdown语法"
   ]
  },
  {
   "cell_type": "markdown",
   "id": "a5146716-dd36-45a6-9927-eaee8867d1c1",
   "metadata": {},
   "source": [
    "# 1.标题\n",
    "## 1.2 二级标题\n",
    "### 1.2.3 三级标题\n",
    "### 1.2.3.4 四级标题\n",
    "\n",
    ">最高可以支持六级标题(文字高亮)"
   ]
  },
  {
   "cell_type": "code",
   "execution_count": null,
   "id": "452ff97a-dae4-4e3c-8695-7e24181f8743",
   "metadata": {},
   "outputs": [],
   "source": [
    "# 2"
   ]
  }
 ],
 "metadata": {
  "kernelspec": {
   "display_name": "Python 3",
   "language": "python",
   "name": "python3"
  },
  "language_info": {
   "codemirror_mode": {
    "name": "ipython",
    "version": 3
   },
   "file_extension": ".py",
   "mimetype": "text/x-python",
   "name": "python",
   "nbconvert_exporter": "python",
   "pygments_lexer": "ipython3",
   "version": "3.8.8"
  }
 },
 "nbformat": 4,
 "nbformat_minor": 5
}
